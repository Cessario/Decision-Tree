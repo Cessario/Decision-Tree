{
 "cells": [
  {
   "cell_type": "code",
   "execution_count": 37,
   "metadata": {},
   "outputs": [],
   "source": [
    "from sklearn.tree import DecisionTreeClassifier\n",
    "from sklearn.model_selection import train_test_split\n",
    "import pandas as pd\n",
    "import pydot\n",
    "import numpy as np\n",
    "\n",
    "Pgw = pd.read_csv('datasetPEG.csv')"
   ]
  },
  {
   "cell_type": "code",
   "execution_count": 38,
   "metadata": {},
   "outputs": [
    {
     "data": {
      "text/html": [
       "<div>\n",
       "<style scoped>\n",
       "    .dataframe tbody tr th:only-of-type {\n",
       "        vertical-align: middle;\n",
       "    }\n",
       "\n",
       "    .dataframe tbody tr th {\n",
       "        vertical-align: top;\n",
       "    }\n",
       "\n",
       "    .dataframe thead th {\n",
       "        text-align: right;\n",
       "    }\n",
       "</style>\n",
       "<table border=\"1\" class=\"dataframe\">\n",
       "  <thead>\n",
       "    <tr style=\"text-align: right;\">\n",
       "      <th></th>\n",
       "      <th>Id</th>\n",
       "      <th>MasaKerja</th>\n",
       "      <th>Usia</th>\n",
       "      <th>NilaiPelatihan</th>\n",
       "      <th>NilaiKinerja</th>\n",
       "      <th>HasilEvaluasi</th>\n",
       "    </tr>\n",
       "  </thead>\n",
       "  <tbody>\n",
       "    <tr>\n",
       "      <th>0</th>\n",
       "      <td>1</td>\n",
       "      <td>10</td>\n",
       "      <td>35</td>\n",
       "      <td>71</td>\n",
       "      <td>93</td>\n",
       "      <td>PROMOSI</td>\n",
       "    </tr>\n",
       "    <tr>\n",
       "      <th>1</th>\n",
       "      <td>2</td>\n",
       "      <td>15</td>\n",
       "      <td>32</td>\n",
       "      <td>82</td>\n",
       "      <td>62</td>\n",
       "      <td>PROMOSI</td>\n",
       "    </tr>\n",
       "    <tr>\n",
       "      <th>2</th>\n",
       "      <td>3</td>\n",
       "      <td>8</td>\n",
       "      <td>30</td>\n",
       "      <td>72</td>\n",
       "      <td>96</td>\n",
       "      <td>PROMOSI</td>\n",
       "    </tr>\n",
       "    <tr>\n",
       "      <th>3</th>\n",
       "      <td>4</td>\n",
       "      <td>23</td>\n",
       "      <td>52</td>\n",
       "      <td>97</td>\n",
       "      <td>73</td>\n",
       "      <td>PROMOSI</td>\n",
       "    </tr>\n",
       "    <tr>\n",
       "      <th>4</th>\n",
       "      <td>5</td>\n",
       "      <td>18</td>\n",
       "      <td>48</td>\n",
       "      <td>50</td>\n",
       "      <td>84</td>\n",
       "      <td>PROMOSI</td>\n",
       "    </tr>\n",
       "  </tbody>\n",
       "</table>\n",
       "</div>"
      ],
      "text/plain": [
       "   Id  MasaKerja  Usia  NilaiPelatihan  NilaiKinerja HasilEvaluasi\n",
       "0   1         10    35              71            93       PROMOSI\n",
       "1   2         15    32              82            62       PROMOSI\n",
       "2   3          8    30              72            96       PROMOSI\n",
       "3   4         23    52              97            73       PROMOSI\n",
       "4   5         18    48              50            84       PROMOSI"
      ]
     },
     "execution_count": 38,
     "metadata": {},
     "output_type": "execute_result"
    }
   ],
   "source": [
    "Pgw.head()\n",
    "# Pgw.describe()"
   ]
  },
  {
   "cell_type": "code",
   "execution_count": 39,
   "metadata": {},
   "outputs": [
    {
     "name": "stdout",
     "output_type": "stream",
     "text": [
      "    MasaKerja  Usia  NilaiPelatihan  NilaiKinerja HasilEvaluasi\n",
      "0          10    35              71            93       PROMOSI\n",
      "1          15    32              82            62       PROMOSI\n",
      "2           8    30              72            96       PROMOSI\n",
      "3          23    52              97            73       PROMOSI\n",
      "4          18    48              50            84       PROMOSI\n",
      "5           7    37              81            99       PROMOSI\n",
      "6          15    32              87            85       PROMOSI\n",
      "7          18    47              84            87       PROMOSI\n",
      "8          11    32              91            94       PROMOSI\n",
      "9          18    48              61            60       PROMOSI\n",
      "10         16    32              93            81       PROMOSI\n",
      "11         11    32              82            69       PROMOSI\n",
      "12         11    32              73            95       PROMOSI\n",
      "13         11    32              58            82       PROMOSI\n",
      "14         11    32              60            87       PROMOSI\n",
      "15          5    25              91            88        MUTASI\n",
      "16         20    45              59            98        MUTASI\n",
      "17         17    42              97            62        MUTASI\n",
      "18         15    48              69            92        MUTASI\n",
      "19          5    25              70            90        MUTASI\n",
      "20         15    40              76            76        MUTASI\n",
      "21          6    25              59            66        MUTASI\n",
      "22         24    52              67            96        MUTASI\n",
      "23         15    48              66            93        MUTASI\n",
      "24         26    50              95            94        MUTASI\n",
      "25          6    25              76            75        MUTASI\n",
      "26          6    25              54            97        MUTASI\n",
      "27          2    32              60            72           PHK\n",
      "28          8    30              77            77           PHK\n",
      "29          2    32              87            51           PHK\n",
      "30         17    48              88            53           PHK\n",
      "31          3    32              51            52           PHK\n",
      "32         17    48              85            83           PHK\n"
     ]
    }
   ],
   "source": [
    "Pgw.drop('Id',axis=1,inplace=True)\n",
    "Pgw.columns = [\"MasaKerja\",\"Usia\",\"NilaiPelatihan\",\"NilaiKinerja\",\"HasilEvaluasi\"]\n",
    "print(Pgw)"
   ]
  },
  {
   "cell_type": "code",
   "execution_count": 40,
   "metadata": {},
   "outputs": [
    {
     "name": "stdout",
     "output_type": "stream",
     "text": [
      "DecisionTreeClassifier(criterion='entropy', min_samples_split=3)\n"
     ]
    }
   ],
   "source": [
    "X = Pgw[['MasaKerja', 'Usia', 'NilaiPelatihan', 'NilaiKinerja' ]]\n",
    "y = Pgw['HasilEvaluasi']\n",
    "\n",
    "X_train, X_test, y_train, y_test = train_test_split(X, y, test_size=0.2, random_state=1) \n",
    "tree_model = DecisionTreeClassifier(criterion=\"entropy\",min_samples_split=3) \n",
    "\n",
    "tes = tree_model.fit(X_train, y_train)\n",
    "# X_train.shape\n",
    "# y_train.shape\n",
    "print(tes)"
   ]
  },
  {
   "cell_type": "code",
   "execution_count": 45,
   "metadata": {},
   "outputs": [
    {
     "name": "stdin",
     "output_type": "stream",
     "text": [
      "Masukkan data Ke 1: 23\n",
      "Masukkan data Ke 2: 23\n",
      "Masukkan data Ke 3: 23\n",
      "Masukkan data Ke 4: 23\n"
     ]
    }
   ],
   "source": [
    "from array import *\n",
    "X_test = array('i',[])\n",
    "\n",
    "\n",
    "k = int(4)\n",
    "for i in range(0, k):\n",
    "    num = int(input(\"Masukkan data Ke %d:\" % (i + 1)))\n",
    "    X_test.append(num)"
   ]
  },
  {
   "cell_type": "code",
   "execution_count": 46,
   "metadata": {},
   "outputs": [
    {
     "name": "stdout",
     "output_type": "stream",
     "text": [
      "['PHK']\n"
     ]
    }
   ],
   "source": [
    "# tree_model.predict([y_test])\n",
    "predict = tree_model.predict([X_test])\n",
    "print(predict)"
   ]
  },
  {
   "cell_type": "code",
   "execution_count": 47,
   "metadata": {},
   "outputs": [
    {
     "data": {
      "text/plain": [
       "'Bambang.pdf'"
      ]
     },
     "execution_count": 47,
     "metadata": {},
     "output_type": "execute_result"
    }
   ],
   "source": [
    "from sklearn import tree\n",
    "import graphviz\n",
    "dot_data = tree.export_graphviz(\n",
    "    tree_model,\n",
    "    out_file = None,\n",
    "    feature_names = ['MasaKerja', 'Usia', 'NilaiPelatihan', 'NilaiKinerja' ],\n",
    "    class_names = ['PROMOSI', 'PHK', 'MUTASI' ],\n",
    "    rounded= True,\n",
    "    filled =True)\n",
    "\n",
    "graph = graphviz.Source(dot_data)\n",
    "graph.render(\"Bambang\")"
   ]
  },
  {
   "cell_type": "code",
   "execution_count": 48,
   "metadata": {},
   "outputs": [],
   "source": [
    "import tkinter as tk\n",
    "from tkinter import ttk"
   ]
  },
  {
   "cell_type": "code",
   "execution_count": 60,
   "metadata": {},
   "outputs": [],
   "source": [
    "from tkinter.messagebox import showerror\n",
    "\n",
    "# root window\n",
    "root = tk.Tk()\n",
    "root.title('Temperature Converter')\n",
    "root.geometry('300x70')\n",
    "root.resizable(False, False)\n",
    "\n",
    "\n",
    "def celc_to_fah(c):\n",
    "    \"\"\" Convert   celsius to fahrenheit\n",
    "    \"\"\"\n",
    "    return (c * 1.8) + 32\n",
    "\n",
    "\n",
    "# frame\n",
    "frame = ttk.Frame(root)\n",
    "\n",
    "\n",
    "# field options\n",
    "options = {'padx': 5, 'pady': 5}\n",
    "\n",
    "# temperature label\n",
    "temperature_label = ttk.Label(frame, text='Celsius')\n",
    "temperature_label.grid(column=0, row=0, sticky='W', **options)\n",
    "\n",
    "# temperature entry\n",
    "temperature = tk.StringVar()\n",
    "temperature_entry = ttk.Entry(frame, textvariable=temperature)\n",
    "temperature_entry.grid(column=1, row=0, **options)\n",
    "temperature_entry.focus()\n",
    "\n",
    "# convert button\n",
    "\n",
    "\n",
    "def convert_button_clicked():\n",
    "    \"\"\"  Handle convert button click event \n",
    "    \"\"\"\n",
    "    try:\n",
    "        f = float(temperature.get())\n",
    "        c = celc_to_fah(f)\n",
    "        result = f'{f} Celsius = {c:.2f} Fahrenheit'\n",
    "        result_label.config(text=result)\n",
    "    except ValueError as error:\n",
    "        showerror(title='Error', message=error)\n",
    "\n",
    "\n",
    "convert_button = ttk.Button(frame, text='Convert')\n",
    "convert_button.grid(column=2, row=0, sticky='W', **options)\n",
    "convert_button.configure(command=convert_button_clicked)\n",
    "\n",
    "# result label\n",
    "result_label = ttk.Label(frame)\n",
    "result_label.grid(row=1, columnspan=3, **options)\n",
    "\n",
    "# add padding to the frame and show it\n",
    "frame.grid(padx=10, pady=10)\n",
    "\n",
    "\n",
    "# start the app\n",
    "root.mainloop()"
   ]
  }
 ],
 "metadata": {
  "kernelspec": {
   "display_name": "Python 3",
   "language": "python",
   "name": "python3"
  },
  "language_info": {
   "codemirror_mode": {
    "name": "ipython",
    "version": 3
   },
   "file_extension": ".py",
   "mimetype": "text/x-python",
   "name": "python",
   "nbconvert_exporter": "python",
   "pygments_lexer": "ipython3",
   "version": "3.8.3"
  }
 },
 "nbformat": 4,
 "nbformat_minor": 4
}
